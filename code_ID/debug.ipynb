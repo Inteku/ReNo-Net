{
 "cells": [
  {
   "cell_type": "code",
   "execution_count": 1,
   "metadata": {},
   "outputs": [
    {
     "name": "stdout",
     "output_type": "stream",
     "text": [
      "\u001bc\n",
      "\u001bc\n",
      "torch.Size([280]) tensor([0., 0., 0., 0., 0., 1.])\n",
      "\u001bc\n",
      "torch.Size([280]) tensor([0., 0., 0., 0., 0., 1.])\n"
     ]
    }
   ],
   "source": [
    "from IdentificationDataset import CleanID, FeatureFusionID, DereverberID, SingleNodeID\n",
    "from IdentificationDataset2 import NoisyID\n",
    "import torch\n",
    "from torch.utils.data import DataLoader, ConcatDataset\n",
    "import numpy as np"
   ]
  },
  {
   "cell_type": "code",
   "execution_count": 2,
   "metadata": {},
   "outputs": [
    {
     "ename": "TypeError",
     "evalue": "ConcatDataset.__init__() takes 2 positional arguments but 4 were given",
     "output_type": "error",
     "traceback": [
      "\u001b[0;31m---------------------------------------------------------------------------\u001b[0m",
      "\u001b[0;31mTypeError\u001b[0m                                 Traceback (most recent call last)",
      "Cell \u001b[0;32mIn[2], line 2\u001b[0m\n\u001b[1;32m      1\u001b[0m allsets_old \u001b[39m=\u001b[39m [ConcatDataset([CleanID(train\u001b[39m=\u001b[39m\u001b[39mTrue\u001b[39;00m), CleanID(validation\u001b[39m=\u001b[39m\u001b[39mTrue\u001b[39;00m), CleanID(test\u001b[39m=\u001b[39m\u001b[39mTrue\u001b[39;00m)]),\n\u001b[0;32m----> 2\u001b[0m                ConcatDataset(FeatureFusionID(train\u001b[39m=\u001b[39;49m\u001b[39mTrue\u001b[39;49;00m), FeatureFusionID(validation\u001b[39m=\u001b[39;49m\u001b[39mTrue\u001b[39;49;00m), FeatureFusionID(test\u001b[39m=\u001b[39;49m\u001b[39mTrue\u001b[39;49;00m))]\n\u001b[1;32m      3\u001b[0m allsets_new \u001b[39m=\u001b[39m [NoisyID(clean\u001b[39m=\u001b[39m\u001b[39mTrue\u001b[39;00m),\n\u001b[1;32m      4\u001b[0m                 NoisyID(dereverberationMethod\u001b[39m=\u001b[39m\u001b[39mNone\u001b[39;00m, noiseReductionMethod\u001b[39m=\u001b[39m\u001b[39mNone\u001b[39;00m),\n\u001b[1;32m      5\u001b[0m                 NoisyID(dereverberationMethod\u001b[39m=\u001b[39m\u001b[39m'\u001b[39m\u001b[39mbaseline\u001b[39m\u001b[39m'\u001b[39m, noiseReductionMethod\u001b[39m=\u001b[39m\u001b[39m'\u001b[39m\u001b[39mbaseline\u001b[39m\u001b[39m'\u001b[39m),\n\u001b[1;32m      6\u001b[0m                 NoisyID(dereverberationMethod\u001b[39m=\u001b[39m\u001b[39m'\u001b[39m\u001b[39mneural net\u001b[39m\u001b[39m'\u001b[39m, noiseReductionMethod\u001b[39m=\u001b[39m\u001b[39m'\u001b[39m\u001b[39mbaseline\u001b[39m\u001b[39m'\u001b[39m),\n\u001b[1;32m      7\u001b[0m                 NoisyID(dereverberationMethod\u001b[39m=\u001b[39m\u001b[39m'\u001b[39m\u001b[39mbaseline\u001b[39m\u001b[39m'\u001b[39m, noiseReductionMethod\u001b[39m=\u001b[39m\u001b[39m'\u001b[39m\u001b[39mneural net\u001b[39m\u001b[39m'\u001b[39m),\n\u001b[1;32m      8\u001b[0m                 NoisyID(dereverberationMethod\u001b[39m=\u001b[39m\u001b[39m'\u001b[39m\u001b[39mnerual net\u001b[39m\u001b[39m'\u001b[39m, noiseReductionMethod\u001b[39m=\u001b[39m\u001b[39m'\u001b[39m\u001b[39mneural net\u001b[39m\u001b[39m'\u001b[39m)]\n",
      "\u001b[0;31mTypeError\u001b[0m: ConcatDataset.__init__() takes 2 positional arguments but 4 were given"
     ]
    }
   ],
   "source": [
    "allsets_old = [ConcatDataset([CleanID(train=True), CleanID(validation=True), CleanID(test=True)]),\n",
    "               ConcatDataset([FeatureFusionID(train=True), FeatureFusionID(validation=True), FeatureFusionID(test=True)])]\n",
    "allsets_new = [NoisyID(clean=True),\n",
    "                NoisyID(dereverberationMethod=None, noiseReductionMethod=None),\n",
    "                NoisyID(dereverberationMethod='baseline', noiseReductionMethod='baseline'),\n",
    "                NoisyID(dereverberationMethod='neural net', noiseReductionMethod='baseline'),\n",
    "                NoisyID(dereverberationMethod='baseline', noiseReductionMethod='neural net'),\n",
    "                NoisyID(dereverberationMethod='nerual net', noiseReductionMethod='neural net')]"
   ]
  },
  {
   "cell_type": "code",
   "execution_count": null,
   "metadata": {},
   "outputs": [],
   "source": []
  },
  {
   "cell_type": "code",
   "execution_count": null,
   "metadata": {},
   "outputs": [
    {
     "name": "stdout",
     "output_type": "stream",
     "text": [
      "OLD SETS\n",
      "Class Tally: [ 84  56  72  92  60 112]\n",
      "Max: mean=3.170, std=2.312\n",
      "Min: mean=0.000, std=0.000\n",
      "\n",
      "NEW SETS\n",
      "Class Tally: [ 84  56  71  91  60 110]\n",
      "Max: mean=0.989, std=0.037\n",
      "Min: mean=0.000, std=0.000\n",
      "\n",
      "Class Tally: [ 84  56  71  91  60 110]\n",
      "Max: mean=0.930, std=0.075\n",
      "Min: mean=0.000, std=0.000\n",
      "\n",
      "Class Tally: [ 84  56  71  91  60 110]\n",
      "Max: mean=0.914, std=0.079\n",
      "Min: mean=-0.003, std=0.002\n",
      "\n",
      "Class Tally: [ 84  56  71  91  60 110]\n",
      "Max: mean=0.029, std=0.001\n",
      "Min: mean=-0.001, std=0.001\n",
      "\n",
      "Class Tally: [ 84  56  71  91  60 110]\n",
      "Max: mean=0.974, std=0.067\n",
      "Min: mean=-0.008, std=0.007\n",
      "\n",
      "Class Tally: [ 84  56  71  91  60 110]\n",
      "Max: mean=0.048, std=0.000\n",
      "Min: mean=-0.038, std=0.000\n",
      "\n"
     ]
    }
   ],
   "source": [
    "def analyze_dataset(dataset):\n",
    "    loader = DataLoader(dataset)\n",
    "    n = len(dataset)\n",
    "    inpmax = np.zeros(n, dtype=np.float16)\n",
    "    inpmin = np.zeros(n, dtype=np.float16)\n",
    "    class_tally = np.zeros(6, dtype=np.uint8)\n",
    "    for i, (inp, trg) in enumerate(loader):\n",
    "        class_tally[torch.argmax(trg)] += 1\n",
    "        inpmax[i] = torch.max(inp)\n",
    "        inpmin[i] = torch.min(inp)\n",
    "    print(f'Class Tally: {class_tally}')\n",
    "    print(f'Max: mean={np.mean(inpmax):.3f}, std={np.std(inpmax):.3f}')\n",
    "    print(f'Min: mean={np.mean(inpmin):.3f}, std={np.std(inpmin):.3f}')\n",
    "    print('')\n",
    "\n",
    "print('OLD SETS')\n",
    "for dataset in allsets_old:\n",
    "    analyze_dataset(dataset)\n",
    "print('NEW SETS')\n",
    "for dataset in allsets_new:\n",
    "    analyze_dataset(dataset)\n"
   ]
  }
 ],
 "metadata": {
  "kernelspec": {
   "display_name": "student",
   "language": "python",
   "name": "python3"
  },
  "language_info": {
   "codemirror_mode": {
    "name": "ipython",
    "version": 3
   },
   "file_extension": ".py",
   "mimetype": "text/x-python",
   "name": "python",
   "nbconvert_exporter": "python",
   "pygments_lexer": "ipython3",
   "version": "3.10.9"
  },
  "orig_nbformat": 4
 },
 "nbformat": 4,
 "nbformat_minor": 2
}
